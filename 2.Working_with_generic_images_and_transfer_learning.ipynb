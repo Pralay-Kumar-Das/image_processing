{
 "cells": [
  {
   "cell_type": "code",
   "execution_count": null,
   "metadata": {
    "colab": {
     "base_uri": "https://localhost:8080/",
     "height": 34
    },
    "colab_type": "code",
    "id": "AhfWlGTzD9eu",
    "outputId": "2f2e85a6-12b9-43a0-edb4-35f63885b9af"
   },
   "outputs": [],
   "source": [
    "%tensorflow_version 2.x"
   ]
  },
  {
   "cell_type": "code",
   "execution_count": 1,
   "metadata": {
    "colab": {},
    "colab_type": "code",
    "id": "1XnWxvnlD3Mw"
   },
   "outputs": [],
   "source": [
    "import pandas as pd\n",
    "import numpy as np\n",
    "import os\n",
    "\n",
    "import matplotlib.pyplot as plt\n",
    "from tensorflow.keras.layers import Dense,GlobalAveragePooling2D,Dropout\n",
    "from tensorflow.keras.applications import MobileNet\n",
    "from tensorflow.keras.preprocessing import image\n",
    "from tensorflow.keras.applications.mobilenet import preprocess_input\n",
    "from tensorflow.keras.preprocessing.image import ImageDataGenerator\n",
    "from tensorflow.keras.models import Model\n",
    "from tensorflow.keras.optimizers import Adam"
   ]
  },
  {
   "cell_type": "code",
   "execution_count": 2,
   "metadata": {
    "colab": {},
    "colab_type": "code",
    "id": "JOZJ_VRsq_ep"
   },
   "outputs": [],
   "source": [
    "ImageDataGenerator.flow_from_directory?"
   ]
  },
  {
   "cell_type": "code",
   "execution_count": null,
   "metadata": {
    "colab": {},
    "colab_type": "code",
    "id": "kjEPWUpyEPvm"
   },
   "outputs": [],
   "source": [
    "# !wget https://www.dropbox.com/s/uo4a18fhn7sl2d9/cat_dog_sub.zip"
   ]
  },
  {
   "cell_type": "code",
   "execution_count": null,
   "metadata": {
    "colab": {},
    "colab_type": "code",
    "id": "KG94e1YbEhkC"
   },
   "outputs": [],
   "source": [
    "# !unzip cat_dog_sub.zip "
   ]
  },
  {
   "cell_type": "code",
   "execution_count": null,
   "metadata": {
    "colab": {},
    "colab_type": "code",
    "id": "7zzpThnoEo0h"
   },
   "outputs": [],
   "source": [
    "# !rm -rf __MACOSX"
   ]
  },
  {
   "cell_type": "code",
   "execution_count": null,
   "metadata": {
    "colab": {},
    "colab_type": "code",
    "id": "4RB3brizkwij"
   },
   "outputs": [],
   "source": []
  },
  {
   "cell_type": "code",
   "execution_count": 3,
   "metadata": {
    "colab": {
     "base_uri": "https://localhost:8080/",
     "height": 71
    },
    "colab_type": "code",
    "id": "q0tvLA3sEwun",
    "outputId": "c7ae65cd-5fa4-4766-c1dc-43a75b3b8682"
   },
   "outputs": [
    {
     "name": "stdout",
     "output_type": "stream",
     "text": [
      "WARNING:tensorflow:`input_shape` is undefined or non-square, or `rows` is not in [128, 160, 192, 224]. Weights for input shape (224, 224) will be loaded as the default.\n"
     ]
    }
   ],
   "source": [
    "base_model=MobileNet(weights='imagenet',include_top=False)"
   ]
  },
  {
   "cell_type": "code",
   "execution_count": 4,
   "metadata": {
    "colab": {},
    "colab_type": "code",
    "id": "ewjxDisKE7Cf"
   },
   "outputs": [
    {
     "name": "stdout",
     "output_type": "stream",
     "text": [
      "Model: \"mobilenet_1.00_224\"\n",
      "_________________________________________________________________\n",
      " Layer (type)                Output Shape              Param #   \n",
      "=================================================================\n",
      " input_1 (InputLayer)        [(None, None, None, 3)]   0         \n",
      "                                                                 \n",
      " conv1 (Conv2D)              (None, None, None, 32)    864       \n",
      "                                                                 \n",
      " conv1_bn (BatchNormalizatio  (None, None, None, 32)   128       \n",
      " n)                                                              \n",
      "                                                                 \n",
      " conv1_relu (ReLU)           (None, None, None, 32)    0         \n",
      "                                                                 \n",
      " conv_dw_1 (DepthwiseConv2D)  (None, None, None, 32)   288       \n",
      "                                                                 \n",
      " conv_dw_1_bn (BatchNormaliz  (None, None, None, 32)   128       \n",
      " ation)                                                          \n",
      "                                                                 \n",
      " conv_dw_1_relu (ReLU)       (None, None, None, 32)    0         \n",
      "                                                                 \n",
      " conv_pw_1 (Conv2D)          (None, None, None, 64)    2048      \n",
      "                                                                 \n",
      " conv_pw_1_bn (BatchNormaliz  (None, None, None, 64)   256       \n",
      " ation)                                                          \n",
      "                                                                 \n",
      " conv_pw_1_relu (ReLU)       (None, None, None, 64)    0         \n",
      "                                                                 \n",
      " conv_pad_2 (ZeroPadding2D)  (None, None, None, 64)    0         \n",
      "                                                                 \n",
      " conv_dw_2 (DepthwiseConv2D)  (None, None, None, 64)   576       \n",
      "                                                                 \n",
      " conv_dw_2_bn (BatchNormaliz  (None, None, None, 64)   256       \n",
      " ation)                                                          \n",
      "                                                                 \n",
      " conv_dw_2_relu (ReLU)       (None, None, None, 64)    0         \n",
      "                                                                 \n",
      " conv_pw_2 (Conv2D)          (None, None, None, 128)   8192      \n",
      "                                                                 \n",
      " conv_pw_2_bn (BatchNormaliz  (None, None, None, 128)  512       \n",
      " ation)                                                          \n",
      "                                                                 \n",
      " conv_pw_2_relu (ReLU)       (None, None, None, 128)   0         \n",
      "                                                                 \n",
      " conv_dw_3 (DepthwiseConv2D)  (None, None, None, 128)  1152      \n",
      "                                                                 \n",
      " conv_dw_3_bn (BatchNormaliz  (None, None, None, 128)  512       \n",
      " ation)                                                          \n",
      "                                                                 \n",
      " conv_dw_3_relu (ReLU)       (None, None, None, 128)   0         \n",
      "                                                                 \n",
      " conv_pw_3 (Conv2D)          (None, None, None, 128)   16384     \n",
      "                                                                 \n",
      " conv_pw_3_bn (BatchNormaliz  (None, None, None, 128)  512       \n",
      " ation)                                                          \n",
      "                                                                 \n",
      " conv_pw_3_relu (ReLU)       (None, None, None, 128)   0         \n",
      "                                                                 \n",
      " conv_pad_4 (ZeroPadding2D)  (None, None, None, 128)   0         \n",
      "                                                                 \n",
      " conv_dw_4 (DepthwiseConv2D)  (None, None, None, 128)  1152      \n",
      "                                                                 \n",
      " conv_dw_4_bn (BatchNormaliz  (None, None, None, 128)  512       \n",
      " ation)                                                          \n",
      "                                                                 \n",
      " conv_dw_4_relu (ReLU)       (None, None, None, 128)   0         \n",
      "                                                                 \n",
      " conv_pw_4 (Conv2D)          (None, None, None, 256)   32768     \n",
      "                                                                 \n",
      " conv_pw_4_bn (BatchNormaliz  (None, None, None, 256)  1024      \n",
      " ation)                                                          \n",
      "                                                                 \n",
      " conv_pw_4_relu (ReLU)       (None, None, None, 256)   0         \n",
      "                                                                 \n",
      " conv_dw_5 (DepthwiseConv2D)  (None, None, None, 256)  2304      \n",
      "                                                                 \n",
      " conv_dw_5_bn (BatchNormaliz  (None, None, None, 256)  1024      \n",
      " ation)                                                          \n",
      "                                                                 \n",
      " conv_dw_5_relu (ReLU)       (None, None, None, 256)   0         \n",
      "                                                                 \n",
      " conv_pw_5 (Conv2D)          (None, None, None, 256)   65536     \n",
      "                                                                 \n",
      " conv_pw_5_bn (BatchNormaliz  (None, None, None, 256)  1024      \n",
      " ation)                                                          \n",
      "                                                                 \n",
      " conv_pw_5_relu (ReLU)       (None, None, None, 256)   0         \n",
      "                                                                 \n",
      " conv_pad_6 (ZeroPadding2D)  (None, None, None, 256)   0         \n",
      "                                                                 \n",
      " conv_dw_6 (DepthwiseConv2D)  (None, None, None, 256)  2304      \n",
      "                                                                 \n",
      " conv_dw_6_bn (BatchNormaliz  (None, None, None, 256)  1024      \n",
      " ation)                                                          \n",
      "                                                                 \n",
      " conv_dw_6_relu (ReLU)       (None, None, None, 256)   0         \n",
      "                                                                 \n",
      " conv_pw_6 (Conv2D)          (None, None, None, 512)   131072    \n",
      "                                                                 \n",
      " conv_pw_6_bn (BatchNormaliz  (None, None, None, 512)  2048      \n",
      " ation)                                                          \n",
      "                                                                 \n",
      " conv_pw_6_relu (ReLU)       (None, None, None, 512)   0         \n",
      "                                                                 \n",
      " conv_dw_7 (DepthwiseConv2D)  (None, None, None, 512)  4608      \n",
      "                                                                 \n",
      " conv_dw_7_bn (BatchNormaliz  (None, None, None, 512)  2048      \n",
      " ation)                                                          \n",
      "                                                                 \n",
      " conv_dw_7_relu (ReLU)       (None, None, None, 512)   0         \n",
      "                                                                 \n",
      " conv_pw_7 (Conv2D)          (None, None, None, 512)   262144    \n",
      "                                                                 \n",
      " conv_pw_7_bn (BatchNormaliz  (None, None, None, 512)  2048      \n",
      " ation)                                                          \n",
      "                                                                 \n",
      " conv_pw_7_relu (ReLU)       (None, None, None, 512)   0         \n",
      "                                                                 \n",
      " conv_dw_8 (DepthwiseConv2D)  (None, None, None, 512)  4608      \n",
      "                                                                 \n",
      " conv_dw_8_bn (BatchNormaliz  (None, None, None, 512)  2048      \n",
      " ation)                                                          \n",
      "                                                                 \n",
      " conv_dw_8_relu (ReLU)       (None, None, None, 512)   0         \n",
      "                                                                 \n",
      " conv_pw_8 (Conv2D)          (None, None, None, 512)   262144    \n"
     ]
    },
    {
     "name": "stdout",
     "output_type": "stream",
     "text": [
      "                                                                 \n",
      " conv_pw_8_bn (BatchNormaliz  (None, None, None, 512)  2048      \n",
      " ation)                                                          \n",
      "                                                                 \n",
      " conv_pw_8_relu (ReLU)       (None, None, None, 512)   0         \n",
      "                                                                 \n",
      " conv_dw_9 (DepthwiseConv2D)  (None, None, None, 512)  4608      \n",
      "                                                                 \n",
      " conv_dw_9_bn (BatchNormaliz  (None, None, None, 512)  2048      \n",
      " ation)                                                          \n",
      "                                                                 \n",
      " conv_dw_9_relu (ReLU)       (None, None, None, 512)   0         \n",
      "                                                                 \n",
      " conv_pw_9 (Conv2D)          (None, None, None, 512)   262144    \n",
      "                                                                 \n",
      " conv_pw_9_bn (BatchNormaliz  (None, None, None, 512)  2048      \n",
      " ation)                                                          \n",
      "                                                                 \n",
      " conv_pw_9_relu (ReLU)       (None, None, None, 512)   0         \n",
      "                                                                 \n",
      " conv_dw_10 (DepthwiseConv2D  (None, None, None, 512)  4608      \n",
      " )                                                               \n",
      "                                                                 \n",
      " conv_dw_10_bn (BatchNormali  (None, None, None, 512)  2048      \n",
      " zation)                                                         \n",
      "                                                                 \n",
      " conv_dw_10_relu (ReLU)      (None, None, None, 512)   0         \n",
      "                                                                 \n",
      " conv_pw_10 (Conv2D)         (None, None, None, 512)   262144    \n",
      "                                                                 \n",
      " conv_pw_10_bn (BatchNormali  (None, None, None, 512)  2048      \n",
      " zation)                                                         \n",
      "                                                                 \n",
      " conv_pw_10_relu (ReLU)      (None, None, None, 512)   0         \n",
      "                                                                 \n",
      " conv_dw_11 (DepthwiseConv2D  (None, None, None, 512)  4608      \n",
      " )                                                               \n",
      "                                                                 \n",
      " conv_dw_11_bn (BatchNormali  (None, None, None, 512)  2048      \n",
      " zation)                                                         \n",
      "                                                                 \n",
      " conv_dw_11_relu (ReLU)      (None, None, None, 512)   0         \n",
      "                                                                 \n",
      " conv_pw_11 (Conv2D)         (None, None, None, 512)   262144    \n",
      "                                                                 \n",
      " conv_pw_11_bn (BatchNormali  (None, None, None, 512)  2048      \n",
      " zation)                                                         \n",
      "                                                                 \n",
      " conv_pw_11_relu (ReLU)      (None, None, None, 512)   0         \n",
      "                                                                 \n",
      " conv_pad_12 (ZeroPadding2D)  (None, None, None, 512)  0         \n",
      "                                                                 \n",
      " conv_dw_12 (DepthwiseConv2D  (None, None, None, 512)  4608      \n",
      " )                                                               \n",
      "                                                                 \n",
      " conv_dw_12_bn (BatchNormali  (None, None, None, 512)  2048      \n",
      " zation)                                                         \n",
      "                                                                 \n",
      " conv_dw_12_relu (ReLU)      (None, None, None, 512)   0         \n",
      "                                                                 \n",
      " conv_pw_12 (Conv2D)         (None, None, None, 1024)  524288    \n",
      "                                                                 \n",
      " conv_pw_12_bn (BatchNormali  (None, None, None, 1024)  4096     \n",
      " zation)                                                         \n",
      "                                                                 \n",
      " conv_pw_12_relu (ReLU)      (None, None, None, 1024)  0         \n",
      "                                                                 \n",
      " conv_dw_13 (DepthwiseConv2D  (None, None, None, 1024)  9216     \n",
      " )                                                               \n",
      "                                                                 \n",
      " conv_dw_13_bn (BatchNormali  (None, None, None, 1024)  4096     \n",
      " zation)                                                         \n",
      "                                                                 \n",
      " conv_dw_13_relu (ReLU)      (None, None, None, 1024)  0         \n",
      "                                                                 \n",
      " conv_pw_13 (Conv2D)         (None, None, None, 1024)  1048576   \n",
      "                                                                 \n",
      " conv_pw_13_bn (BatchNormali  (None, None, None, 1024)  4096     \n",
      " zation)                                                         \n",
      "                                                                 \n",
      " conv_pw_13_relu (ReLU)      (None, None, None, 1024)  0         \n",
      "                                                                 \n",
      "=================================================================\n",
      "Total params: 3,228,864\n",
      "Trainable params: 3,206,976\n",
      "Non-trainable params: 21,888\n",
      "_________________________________________________________________\n"
     ]
    }
   ],
   "source": [
    "base_model.summary()"
   ]
  },
  {
   "cell_type": "code",
   "execution_count": null,
   "metadata": {
    "colab": {},
    "colab_type": "code",
    "id": "n1P5nlDgFBbk"
   },
   "outputs": [],
   "source": [
    "CLASSES = 2\n",
    "x = base_model.output\n",
    "x = GlobalAveragePooling2D(name='avg_pool')(x)\n",
    "x = Dropout(0.4)(x)\n",
    "predictions = Dense(CLASSES, activation='softmax')(x)\n",
    "model = Model(inputs=base_model.input, outputs=predictions)"
   ]
  },
  {
   "cell_type": "code",
   "execution_count": null,
   "metadata": {
    "colab": {},
    "colab_type": "code",
    "id": "x6iNQR9oFH0v"
   },
   "outputs": [],
   "source": [
    "for layer in base_model.layers:\n",
    "    layer.trainable = False\n",
    "      \n",
    "model.compile(optimizer='rmsprop',\n",
    "              loss='categorical_crossentropy',\n",
    "              metrics=['accuracy'])"
   ]
  },
  {
   "cell_type": "code",
   "execution_count": null,
   "metadata": {
    "colab": {},
    "colab_type": "code",
    "id": "M1ESLdbkFKNX"
   },
   "outputs": [],
   "source": [
    "# model.summary()"
   ]
  },
  {
   "cell_type": "code",
   "execution_count": null,
   "metadata": {
    "colab": {
     "base_uri": "https://localhost:8080/",
     "height": 34
    },
    "colab_type": "code",
    "id": "xlI3ycY9FagD",
    "outputId": "e403a43c-8b19-4515-a8a2-6603688a29d9"
   },
   "outputs": [],
   "source": [
    "os.listdir('cat_dog_sub')"
   ]
  },
  {
   "cell_type": "code",
   "execution_count": null,
   "metadata": {
    "colab": {},
    "colab_type": "code",
    "id": "n88r6bdClUGw"
   },
   "outputs": [],
   "source": [
    "# !rm -rf /content/cat_dog_sub/.DS_Store"
   ]
  },
  {
   "cell_type": "code",
   "execution_count": null,
   "metadata": {
    "colab": {
     "base_uri": "https://localhost:8080/",
     "height": 51
    },
    "colab_type": "code",
    "id": "vT2dYNCdFMtD",
    "outputId": "42a50e8e-a63d-47db-b204-8c4dc48622cf"
   },
   "outputs": [],
   "source": [
    "WIDTH = 299\n",
    "HEIGHT = 299\n",
    "BATCH_SIZE = 32\n",
    "TRAIN_DIR=r'/content/cat_dog_sub/train'\n",
    "TEST_DIR=r'/content/cat_dog_sub/test'\n",
    "# data prep\n",
    "train_datagen = ImageDataGenerator(\n",
    "    preprocessing_function=preprocess_input,\n",
    "    rotation_range=40,\n",
    "    width_shift_range=0.2,\n",
    "    height_shift_range=0.2,\n",
    "    shear_range=0.2,\n",
    "    zoom_range=0.2,\n",
    "    horizontal_flip=True,\n",
    "    fill_mode='nearest')\n",
    "\n",
    "validation_datagen = ImageDataGenerator(\n",
    "    preprocessing_function=preprocess_input,\n",
    "    rotation_range=40,\n",
    "    width_shift_range=0.2,\n",
    "    height_shift_range=0.2,\n",
    "    shear_range=0.2,\n",
    "    zoom_range=0.2,\n",
    "    horizontal_flip=True,\n",
    "    fill_mode='nearest')\n",
    "\n",
    "train_generator = train_datagen.flow_from_directory(\n",
    "    TRAIN_DIR,\n",
    "    target_size=(HEIGHT, WIDTH),\n",
    "        batch_size=BATCH_SIZE,\n",
    "        class_mode='categorical')\n",
    "    \n",
    "validation_generator = validation_datagen.flow_from_directory(\n",
    "    TEST_DIR,\n",
    "    target_size=(HEIGHT, WIDTH),\n",
    "    batch_size=BATCH_SIZE,\n",
    "    class_mode='categorical')"
   ]
  },
  {
   "cell_type": "code",
   "execution_count": null,
   "metadata": {
    "colab": {},
    "colab_type": "code",
    "id": "p0JNQBwAraoy"
   },
   "outputs": [],
   "source": [
    "data=next(train_generator)"
   ]
  },
  {
   "cell_type": "code",
   "execution_count": null,
   "metadata": {
    "colab": {
     "base_uri": "https://localhost:8080/",
     "height": 34
    },
    "colab_type": "code",
    "id": "x_8vtJymr1QZ",
    "outputId": "f03b6051-6324-46cf-c8ae-d892fac71b58"
   },
   "outputs": [],
   "source": [
    "data[1].shape"
   ]
  },
  {
   "cell_type": "code",
   "execution_count": null,
   "metadata": {
    "colab": {},
    "colab_type": "code",
    "id": "3yTMUA4ORkIJ"
   },
   "outputs": [],
   "source": [
    "import tensorflow as tf"
   ]
  },
  {
   "cell_type": "code",
   "execution_count": null,
   "metadata": {
    "colab": {},
    "colab_type": "code",
    "id": "bCg30FoJkkpa"
   },
   "outputs": [],
   "source": [
    "EPOCHS = 5\n",
    "BATCH_SIZE = 32\n",
    "STEPS_PER_EPOCH = train_generator.n//train_generator.batch_size\n",
    "VALIDATION_STEPS=validation_generator.n//train_generator.batch_size"
   ]
  },
  {
   "cell_type": "code",
   "execution_count": null,
   "metadata": {
    "colab": {
     "base_uri": "https://localhost:8080/",
     "height": 34
    },
    "colab_type": "code",
    "id": "DqZY6QJTs7NJ",
    "outputId": "cc67f522-d6c7-4af9-cad2-204bb1546409"
   },
   "outputs": [],
   "source": [
    "STEPS_PER_EPOCH,VALIDATION_STEPS"
   ]
  },
  {
   "cell_type": "code",
   "execution_count": null,
   "metadata": {
    "colab": {},
    "colab_type": "code",
    "id": "ebVgC0ngRPsi"
   },
   "outputs": [],
   "source": []
  },
  {
   "cell_type": "code",
   "execution_count": null,
   "metadata": {
    "colab": {
     "base_uri": "https://localhost:8080/",
     "height": 1000
    },
    "colab_type": "code",
    "id": "kT44e1sHFhNa",
    "outputId": "9951db6d-1c1d-4c92-9680-3c23109f1bd7"
   },
   "outputs": [],
   "source": [
    "model.fit(\n",
    "    train_generator,\n",
    "    epochs=EPOCHS,\n",
    "    steps_per_epoch=STEPS_PER_EPOCH,\n",
    "    validation_data=validation_generator,\n",
    "    validation_steps=VALIDATION_STEPS,verbose=1)"
   ]
  },
  {
   "cell_type": "code",
   "execution_count": null,
   "metadata": {
    "colab": {},
    "colab_type": "code",
    "id": "Nr8-EuQoFw9Y"
   },
   "outputs": [],
   "source": [
    "from tensorflow.keras.preprocessing import image"
   ]
  },
  {
   "cell_type": "code",
   "execution_count": null,
   "metadata": {
    "colab": {},
    "colab_type": "code",
    "id": "ovD93gzRvIJg"
   },
   "outputs": [],
   "source": [
    "img = image.load_img(r'cat_dog_sub/test/dog/182.jpg', target_size=(299,299))"
   ]
  },
  {
   "cell_type": "code",
   "execution_count": null,
   "metadata": {
    "colab": {},
    "colab_type": "code",
    "id": "cDpisLiuvK-K"
   },
   "outputs": [],
   "source": [
    "x = image.img_to_array(img)\n",
    "x = preprocess_input(x)\n",
    "x = np.expand_dims(x, axis=0)\n",
    "pred = model.predict(x)[0]"
   ]
  },
  {
   "cell_type": "code",
   "execution_count": null,
   "metadata": {
    "colab": {
     "base_uri": "https://localhost:8080/",
     "height": 34
    },
    "colab_type": "code",
    "id": "-Wv09SbGvNl7",
    "outputId": "249d39f2-1acb-47ed-8b5a-193916276aea"
   },
   "outputs": [],
   "source": [
    "pred"
   ]
  },
  {
   "cell_type": "code",
   "execution_count": null,
   "metadata": {
    "colab": {
     "base_uri": "https://localhost:8080/",
     "height": 34
    },
    "colab_type": "code",
    "id": "WY3z7zqbvQ1W",
    "outputId": "e022e1e6-bc4c-4923-ce42-66024bd2826f"
   },
   "outputs": [],
   "source": [
    "train_generator.class_indices"
   ]
  },
  {
   "cell_type": "code",
   "execution_count": null,
   "metadata": {
    "colab": {},
    "colab_type": "code",
    "id": "oXcQIR85vbhb"
   },
   "outputs": [],
   "source": []
  }
 ],
 "metadata": {
  "accelerator": "GPU",
  "colab": {
   "collapsed_sections": [],
   "name": "Working with generic images and transfer learning.ipynb",
   "provenance": []
  },
  "kernelspec": {
   "display_name": "Python 3 (ipykernel)",
   "language": "python",
   "name": "python3"
  },
  "language_info": {
   "codemirror_mode": {
    "name": "ipython",
    "version": 3
   },
   "file_extension": ".py",
   "mimetype": "text/x-python",
   "name": "python",
   "nbconvert_exporter": "python",
   "pygments_lexer": "ipython3",
   "version": "3.9.13"
  }
 },
 "nbformat": 4,
 "nbformat_minor": 1
}
