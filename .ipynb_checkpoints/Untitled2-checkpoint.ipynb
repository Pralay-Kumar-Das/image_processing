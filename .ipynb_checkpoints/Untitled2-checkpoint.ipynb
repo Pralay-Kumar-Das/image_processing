{
 "cells": [
  {
   "cell_type": "code",
   "execution_count": 1,
   "id": "502b120b",
   "metadata": {},
   "outputs": [
    {
     "data": {
      "text/plain": [
       "'D:\\\\RAAM\\\\DL\\\\CNN'"
      ]
     },
     "execution_count": 1,
     "metadata": {},
     "output_type": "execute_result"
    }
   ],
   "source": [
    "pwd"
   ]
  },
  {
   "cell_type": "code",
   "execution_count": 2,
   "id": "274080fa",
   "metadata": {},
   "outputs": [],
   "source": [
    "import numpy as np\n",
    "import pandas as pd\n",
    "import matplotlib.pyplot as plt\n",
    "%matplotlib inline\n",
    "\n",
    "import seaborn as sns\n",
    "import tensorflow as tf\n",
    "import keras"
   ]
  },
  {
   "cell_type": "code",
   "execution_count": 3,
   "id": "62168b3d",
   "metadata": {},
   "outputs": [],
   "source": [
    "from keras.preprocessing.image import ImageDataGenerator"
   ]
  },
  {
   "cell_type": "code",
   "execution_count": 4,
   "id": "e58f2709",
   "metadata": {},
   "outputs": [],
   "source": [
    "img=ImageDataGenerator(rescale=1/255,shear_range=0.3,zoom_range=0.3)"
   ]
  },
  {
   "cell_type": "code",
   "execution_count": 5,
   "id": "53f0f0c5",
   "metadata": {},
   "outputs": [
    {
     "name": "stdout",
     "output_type": "stream",
     "text": [
      "Found 971 images belonging to 2 classes.\n"
     ]
    }
   ],
   "source": [
    "train_set=img.flow_from_directory(\"dataset/training_set\",target_size=(64,64),class_mode=\"binary\")"
   ]
  },
  {
   "cell_type": "code",
   "execution_count": 6,
   "id": "a845fffd",
   "metadata": {},
   "outputs": [
    {
     "data": {
      "text/plain": [
       "{'cats': 0, 'dogs': 1}"
      ]
     },
     "execution_count": 6,
     "metadata": {},
     "output_type": "execute_result"
    }
   ],
   "source": [
    "train_set.class_indices"
   ]
  },
  {
   "cell_type": "code",
   "execution_count": 7,
   "id": "8ef0d708",
   "metadata": {},
   "outputs": [],
   "source": [
    "img1=ImageDataGenerator(rescale=1/255)"
   ]
  },
  {
   "cell_type": "code",
   "execution_count": 8,
   "id": "fe34688b",
   "metadata": {},
   "outputs": [
    {
     "name": "stdout",
     "output_type": "stream",
     "text": [
      "Found 998 images belonging to 2 classes.\n"
     ]
    }
   ],
   "source": [
    "test_set=img.flow_from_directory(\"dataset/test_set\",target_size=(64,64),class_mode=\"binary\")"
   ]
  },
  {
   "cell_type": "code",
   "execution_count": 9,
   "id": "cc79e31f",
   "metadata": {},
   "outputs": [],
   "source": [
    "#installing CNN\n",
    "from keras.models import Sequential\n",
    "classifier=Sequential()"
   ]
  },
  {
   "cell_type": "code",
   "execution_count": 10,
   "id": "9586defb",
   "metadata": {},
   "outputs": [],
   "source": [
    "from keras.layers import Conv2D,MaxPooling2D,Flatten,Dense"
   ]
  },
  {
   "cell_type": "code",
   "execution_count": 11,
   "id": "5643c69e",
   "metadata": {},
   "outputs": [],
   "source": [
    "#Convolution\n",
    "classifier.add(Conv2D(input_shape=[64,64,3],filters=32,kernel_size=3,activation=\"relu\"))"
   ]
  },
  {
   "cell_type": "code",
   "execution_count": 12,
   "id": "e684a3e3",
   "metadata": {},
   "outputs": [],
   "source": [
    "#MaxPooling\n",
    "classifier.add(MaxPooling2D(pool_size=2,strides=2))"
   ]
  },
  {
   "cell_type": "code",
   "execution_count": 13,
   "id": "6913bba1",
   "metadata": {},
   "outputs": [],
   "source": [
    "#Flattening\n",
    "classifier.add(Flatten())"
   ]
  },
  {
   "cell_type": "code",
   "execution_count": 14,
   "id": "aec45625",
   "metadata": {},
   "outputs": [],
   "source": [
    "#Full Connection\n",
    "classifier.add(Dense(units=128,activation=\"relu\"))\n",
    "classifier.add(Dense(units=1,activation=\"sigmoid\"))"
   ]
  },
  {
   "cell_type": "code",
   "execution_count": 15,
   "id": "4e02ff04",
   "metadata": {},
   "outputs": [],
   "source": [
    "classifier.compile(optimizer=\"adam\",loss=\"binary_crossentropy\",metrics=[\"accuracy\"])"
   ]
  },
  {
   "cell_type": "code",
   "execution_count": 17,
   "id": "83b64851",
   "metadata": {},
   "outputs": [
    {
     "name": "stdout",
     "output_type": "stream",
     "text": [
      "Epoch 1/25\n",
      "31/31 [==============================] - 10s 240ms/step - loss: 1.1448 - accuracy: 0.5077 - val_loss: 0.7003 - val_accuracy: 0.4739\n",
      "Epoch 2/25\n",
      "31/31 [==============================] - 6s 210ms/step - loss: 0.6864 - accuracy: 0.5448 - val_loss: 0.6856 - val_accuracy: 0.5110\n",
      "Epoch 3/25\n",
      "31/31 [==============================] - 7s 231ms/step - loss: 0.6630 - accuracy: 0.6045 - val_loss: 0.7098 - val_accuracy: 0.4950\n",
      "Epoch 4/25\n",
      "31/31 [==============================] - 8s 276ms/step - loss: 0.6423 - accuracy: 0.6344 - val_loss: 0.6286 - val_accuracy: 0.6743\n",
      "Epoch 5/25\n",
      "31/31 [==============================] - 7s 216ms/step - loss: 0.6124 - accuracy: 0.6601 - val_loss: 0.6322 - val_accuracy: 0.6293\n",
      "Epoch 6/25\n",
      "31/31 [==============================] - 6s 209ms/step - loss: 0.5981 - accuracy: 0.6787 - val_loss: 0.6190 - val_accuracy: 0.6774\n",
      "Epoch 7/25\n",
      "31/31 [==============================] - 9s 278ms/step - loss: 0.5751 - accuracy: 0.7158 - val_loss: 0.5977 - val_accuracy: 0.6824\n",
      "Epoch 8/25\n",
      "31/31 [==============================] - 7s 226ms/step - loss: 0.5424 - accuracy: 0.7364 - val_loss: 0.5983 - val_accuracy: 0.6774\n",
      "Epoch 9/25\n",
      "31/31 [==============================] - 6s 209ms/step - loss: 0.5187 - accuracy: 0.7374 - val_loss: 0.5991 - val_accuracy: 0.6784\n",
      "Epoch 10/25\n",
      "31/31 [==============================] - 8s 269ms/step - loss: 0.5277 - accuracy: 0.7384 - val_loss: 0.6072 - val_accuracy: 0.6824\n",
      "Epoch 11/25\n",
      "31/31 [==============================] - 9s 285ms/step - loss: 0.4949 - accuracy: 0.7580 - val_loss: 0.6067 - val_accuracy: 0.6703\n",
      "Epoch 12/25\n",
      "31/31 [==============================] - 7s 226ms/step - loss: 0.4727 - accuracy: 0.7837 - val_loss: 0.6028 - val_accuracy: 0.6784\n",
      "Epoch 13/25\n",
      "31/31 [==============================] - 6s 206ms/step - loss: 0.4740 - accuracy: 0.7590 - val_loss: 0.6921 - val_accuracy: 0.6112\n",
      "Epoch 14/25\n",
      "31/31 [==============================] - 8s 252ms/step - loss: 0.4525 - accuracy: 0.7755 - val_loss: 0.6032 - val_accuracy: 0.6894\n",
      "Epoch 15/25\n",
      "31/31 [==============================] - 10s 324ms/step - loss: 0.4078 - accuracy: 0.8136 - val_loss: 0.6213 - val_accuracy: 0.6934\n",
      "Epoch 16/25\n",
      "31/31 [==============================] - 7s 237ms/step - loss: 0.4177 - accuracy: 0.7909 - val_loss: 0.6686 - val_accuracy: 0.6623\n",
      "Epoch 17/25\n",
      "31/31 [==============================] - 7s 213ms/step - loss: 0.4070 - accuracy: 0.8105 - val_loss: 0.6201 - val_accuracy: 0.6794\n",
      "Epoch 18/25\n",
      "31/31 [==============================] - 7s 237ms/step - loss: 0.3887 - accuracy: 0.8249 - val_loss: 0.7137 - val_accuracy: 0.6463\n",
      "Epoch 19/25\n",
      "31/31 [==============================] - 10s 325ms/step - loss: 0.3854 - accuracy: 0.8229 - val_loss: 0.7057 - val_accuracy: 0.6453\n",
      "Epoch 20/25\n",
      "31/31 [==============================] - 8s 248ms/step - loss: 0.3768 - accuracy: 0.8435 - val_loss: 0.6207 - val_accuracy: 0.6754\n",
      "Epoch 21/25\n",
      "31/31 [==============================] - 6s 211ms/step - loss: 0.3544 - accuracy: 0.8435 - val_loss: 0.6499 - val_accuracy: 0.6553\n",
      "Epoch 22/25\n",
      "31/31 [==============================] - 7s 234ms/step - loss: 0.3275 - accuracy: 0.8682 - val_loss: 0.6732 - val_accuracy: 0.6784\n",
      "Epoch 23/25\n",
      "31/31 [==============================] - 12s 381ms/step - loss: 0.3312 - accuracy: 0.8507 - val_loss: 0.6493 - val_accuracy: 0.6844\n",
      "Epoch 24/25\n",
      "31/31 [==============================] - 9s 280ms/step - loss: 0.3345 - accuracy: 0.8610 - val_loss: 0.7102 - val_accuracy: 0.6523\n",
      "Epoch 25/25\n",
      "31/31 [==============================] - 6s 205ms/step - loss: 0.3073 - accuracy: 0.8702 - val_loss: 0.7231 - val_accuracy: 0.6733\n"
     ]
    },
    {
     "data": {
      "text/plain": [
       "<keras.callbacks.History at 0x1d4930e8d00>"
      ]
     },
     "execution_count": 17,
     "metadata": {},
     "output_type": "execute_result"
    }
   ],
   "source": [
    "classifier.fit(x=train_set,validation_data=test_set,epochs=25)"
   ]
  },
  {
   "cell_type": "code",
   "execution_count": null,
   "id": "3105b672",
   "metadata": {},
   "outputs": [],
   "source": []
  }
 ],
 "metadata": {
  "kernelspec": {
   "display_name": "Python 3 (ipykernel)",
   "language": "python",
   "name": "python3"
  },
  "language_info": {
   "codemirror_mode": {
    "name": "ipython",
    "version": 3
   },
   "file_extension": ".py",
   "mimetype": "text/x-python",
   "name": "python",
   "nbconvert_exporter": "python",
   "pygments_lexer": "ipython3",
   "version": "3.9.13"
  }
 },
 "nbformat": 4,
 "nbformat_minor": 5
}
